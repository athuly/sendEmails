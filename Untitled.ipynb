{
 "cells": [
  {
   "cell_type": "code",
   "execution_count": 25,
   "metadata": {},
   "outputs": [],
   "source": [
    "from string import Template\n",
    "# import the smtplib module. It should be included in Python by default\n",
    "import smtplib\n",
    "import sys\n",
    "from email.mime.multipart import MIMEMultipart\n",
    "from email.mime.text import MIMEText\n",
    "\n",
    "def read_template(filename):\n",
    "    with open(filename, 'r', encoding='utf-8') as template_file:\n",
    "        template_file_content = template_file.read()\n",
    "    return Template(template_file_content)\n",
    "\n",
    "\n",
    "# Function to read the contacts from a given contact file and return a\n",
    "# list of names and email addresses\n",
    "def get_contacts(filename):\n",
    "    names = []\n",
    "    emails = []\n",
    "    with open(filename, mode='r', encoding='utf-8') as contacts_file:\n",
    "        for line in contacts_file:\n",
    "            splitline = line.split(',')\n",
    "            name = splitline[0]\n",
    "            email = splitline[1]\n",
    "            names.append(name)\n",
    "            emails.append(email)\n",
    "    return (names, emails)\n",
    "\n",
    "def get_html(filename):\n",
    "    with open(filename, 'r', encoding='latin-1') as html_file:\n",
    "        html = html_file.read()\n",
    "    return html"
   ]
  },
  {
   "cell_type": "code",
   "execution_count": 18,
   "metadata": {},
   "outputs": [],
   "source": [
    "# set up the SMTP server\n",
    "MY_ADDRESS = \"athulyagk361@gmail.com\"\n",
    "password = \"9495890658\"\n",
    "homework_id = \"data\"\n",
    "contacts_filename = \"contacts.txt\" #sys.argv[3]\n",
    "message_filename = \"message.txt\" #sys.argv[4]\n",
    "\n"
   ]
  },
  {
   "cell_type": "code",
   "execution_count": 46,
   "metadata": {},
   "outputs": [],
   "source": [
    "import smtplib, ssl\n",
    "\n",
    "port = 465\n",
    "context = ssl.create_default_context()\n",
    "s = smtplib.SMTP_SSL(\"smtp.gmail.com\", port, context=context)\n",
    "#s.ehlo()\n",
    "\n",
    "#s.starttls()\n",
    "#s.ehlo\n",
    "\n",
    "s.login(MY_ADDRESS, password)\n",
    "\n",
    "names, emails = get_contacts(contacts_filename)  # read contacts\n",
    "message_template = read_template(message_filename)\n",
    "\n"
   ]
  },
  {
   "cell_type": "code",
   "execution_count": 47,
   "metadata": {},
   "outputs": [
    {
     "name": "stdout",
     "output_type": "stream",
     "text": [
      "_frdkl_sine.html\n",
      "Mail sent to jk\n"
     ]
    },
    {
     "data": {
      "text/plain": [
       "(221, b'2.0.0 closing connection b15sm394823pft.58 - gsmtp')"
      ]
     },
     "execution_count": 47,
     "metadata": {},
     "output_type": "execute_result"
    }
   ],
   "source": [
    "import os\n",
    "\n",
    "# For each contact, send the email:\n",
    "for name, email in zip(names, emails):\n",
    "    msg = MIMEMultipart()       # create a message\n",
    "\n",
    "    # add in the actual person name to the message template\n",
    "    message = message_template.substitute(PERSON_NAME=name.title(), HOMEWORK = homework_id)\n",
    "\n",
    "    # setup the parameters of the message\n",
    "    msg['From']=MY_ADDRESS\n",
    "    msg['To']=email\n",
    "    msg['Subject']=f\"Graded sheets for {homework_id}\"\n",
    "\n",
    "    # add in the message body\n",
    "    msg.attach(MIMEText(message, 'plain'))\n",
    "    graded_file_path = os.path.join(homework_id, name)\n",
    "    graded_filenames = [f for f in os.listdir(graded_file_path) if f.endswith(\"html\")]\n",
    "    for graded_filename in graded_filenames:\n",
    "        print(graded_filename)\n",
    "        html = get_html(os.path.join(graded_file_path, graded_filename))\n",
    "        html_attachment = MIMEText(html, 'html')\n",
    "        html_attachment.add_header('Content-Disposition', 'attachment', filename=graded_filename)\n",
    "        msg.attach(html_attachment)\n",
    "    # send the message via the server set up earlier.\n",
    "    s.send_message(msg)\n",
    "\n",
    "    del msg\n",
    "    print(f\"Mail sent to {name}\")\n",
    "\n",
    "\n",
    "    # Terminate the SMTP session and close the connection\n",
    "s.quit()\n"
   ]
  },
  {
   "cell_type": "code",
   "execution_count": 45,
   "metadata": {},
   "outputs": [
    {
     "data": {
      "text/plain": [
       "['_frdkl_sine.html']"
      ]
     },
     "execution_count": 45,
     "metadata": {},
     "output_type": "execute_result"
    }
   ],
   "source": [
    "os.listdir(\"data/jk\")"
   ]
  },
  {
   "cell_type": "code",
   "execution_count": 43,
   "metadata": {},
   "outputs": [
    {
     "data": {
      "text/plain": [
       "'data/jk'"
      ]
     },
     "execution_count": 43,
     "metadata": {},
     "output_type": "execute_result"
    }
   ],
   "source": [
    "os.path.join(\"data\", name)\n"
   ]
  },
  {
   "cell_type": "code",
   "execution_count": 48,
   "metadata": {},
   "outputs": [],
   "source": [
    "a = [\"1\", \"2\"]"
   ]
  },
  {
   "cell_type": "code",
   "execution_count": 50,
   "metadata": {},
   "outputs": [
    {
     "name": "stdout",
     "output_type": "stream",
     "text": [
      "1\n",
      "2\n"
     ]
    }
   ],
   "source": [
    "print(\"\\n\".join(a))"
   ]
  },
  {
   "cell_type": "code",
   "execution_count": null,
   "metadata": {},
   "outputs": [],
   "source": []
  }
 ],
 "metadata": {
  "kernelspec": {
   "display_name": "Python 3",
   "language": "python",
   "name": "python3"
  },
  "language_info": {
   "codemirror_mode": {
    "name": "ipython",
    "version": 3
   },
   "file_extension": ".py",
   "mimetype": "text/x-python",
   "name": "python",
   "nbconvert_exporter": "python",
   "pygments_lexer": "ipython3",
   "version": "3.7.3"
  }
 },
 "nbformat": 4,
 "nbformat_minor": 2
}
